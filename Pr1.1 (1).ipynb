{
 "cells": [
  {
   "cell_type": "markdown",
   "id": "1ab0c086-2530-4a23-9e83-e422ef085fac",
   "metadata": {},
   "source": [
    "<h1 id=\"types_objects\" align=\"center\">Sharon Raja S</h1>"
   ]
  },
  {
   "cell_type": "markdown",
   "id": "7bf65557-a2cb-40c2-8457-148459d41ee0",
   "metadata": {},
   "source": [
    "<h2 id=\"types_objects\" align=\"center\">My Project 1</h2>\n"
   ]
  },
  {
   "cell_type": "markdown",
   "id": "aa364c4a-6074-4f1b-b4d9-c09a0877693c",
   "metadata": {},
   "source": [
    "### Project"
   ]
  },
  {
   "cell_type": "markdown",
   "id": "e50e7c48-291e-4773-b27a-b132efb732b3",
   "metadata": {},
   "source": [
    "##### My First Code in Python"
   ]
  },
  {
   "cell_type": "code",
   "execution_count": 3,
   "id": "e0e2e5ce-b238-4374-860b-872e60f66cd2",
   "metadata": {},
   "outputs": [
    {
     "name": "stdout",
     "output_type": "stream",
     "text": [
      "Hi\n",
      "15\n"
     ]
    },
    {
     "data": {
      "text/plain": [
       "8"
      ]
     },
     "execution_count": 3,
     "metadata": {},
     "output_type": "execute_result"
    }
   ],
   "source": [
    "print(\"Hi\")\n",
    "print(7+8)\n",
    "3+5"
   ]
  },
  {
   "cell_type": "code",
   "execution_count": 5,
   "id": "ef7bb28d-e790-45bd-a80c-eb488e406834",
   "metadata": {},
   "outputs": [
    {
     "data": {
      "text/plain": [
       "True"
      ]
     },
     "execution_count": 5,
     "metadata": {},
     "output_type": "execute_result"
    }
   ],
   "source": [
    "3==3"
   ]
  },
  {
   "cell_type": "code",
   "execution_count": 7,
   "id": "6bd826ee-844c-4feb-9f75-0ff74f3931bf",
   "metadata": {},
   "outputs": [
    {
     "data": {
      "text/plain": [
       "False"
      ]
     },
     "execution_count": 7,
     "metadata": {},
     "output_type": "execute_result"
    }
   ],
   "source": [
    "4==6"
   ]
  },
  {
   "cell_type": "code",
   "execution_count": 9,
   "id": "f3eba8b4-fe62-4d5f-aa19-f3a9c8c3e0ff",
   "metadata": {},
   "outputs": [
    {
     "data": {
      "text/plain": [
       "8"
      ]
     },
     "execution_count": 9,
     "metadata": {},
     "output_type": "execute_result"
    }
   ],
   "source": [
    "2**3"
   ]
  },
  {
   "cell_type": "code",
   "execution_count": 11,
   "id": "283b6b0f-4689-4df8-83f0-9505bee60b8d",
   "metadata": {},
   "outputs": [
    {
     "data": {
      "text/plain": [
       "27"
      ]
     },
     "execution_count": 11,
     "metadata": {},
     "output_type": "execute_result"
    }
   ],
   "source": [
    "3**3"
   ]
  },
  {
   "cell_type": "code",
   "execution_count": 13,
   "id": "8adb6d16-68d6-4691-985c-955865565429",
   "metadata": {},
   "outputs": [
    {
     "name": "stdout",
     "output_type": "stream",
     "text": [
      "25\n"
     ]
    }
   ],
   "source": [
    "# square\n",
    "print(5**2)"
   ]
  },
  {
   "cell_type": "code",
   "execution_count": 15,
   "id": "95c0581f-48ea-4709-b219-67231fb6497f",
   "metadata": {},
   "outputs": [
    {
     "name": "stdout",
     "output_type": "stream",
     "text": [
      "125\n"
     ]
    }
   ],
   "source": [
    "# cube\n",
    "print(5**3)"
   ]
  },
  {
   "cell_type": "code",
   "execution_count": 17,
   "id": "4029ee96-f3c1-42b1-bfa8-9228f1cbee5e",
   "metadata": {},
   "outputs": [
    {
     "name": "stdout",
     "output_type": "stream",
     "text": [
      "256\n"
     ]
    }
   ],
   "source": [
    "# power\n",
    "print(4**4)"
   ]
  },
  {
   "cell_type": "code",
   "execution_count": 19,
   "id": "951137c7-38b3-4290-a21f-5be8abe3e62f",
   "metadata": {},
   "outputs": [
    {
     "name": "stdout",
     "output_type": "stream",
     "text": [
      "4.0\n"
     ]
    }
   ],
   "source": [
    "# square root\n",
    "print(16**(1/2))"
   ]
  },
  {
   "cell_type": "code",
   "execution_count": 21,
   "id": "8b78518d-063f-42aa-8aec-46f5c717190a",
   "metadata": {},
   "outputs": [
    {
     "name": "stdout",
     "output_type": "stream",
     "text": [
      "2.0\n"
     ]
    }
   ],
   "source": [
    "# cube root\n",
    "print(8**(1/3))"
   ]
  },
  {
   "cell_type": "code",
   "execution_count": 23,
   "id": "4b43435f-83e4-4b26-9549-7ce1ca3fa2ef",
   "metadata": {},
   "outputs": [
    {
     "name": "stdout",
     "output_type": "stream",
     "text": [
      "3.0\n"
     ]
    }
   ],
   "source": [
    "# power root\n",
    "print(729**(1/6))"
   ]
  },
  {
   "cell_type": "code",
   "execution_count": 25,
   "id": "912859b7-2001-4016-b986-a011fc69c712",
   "metadata": {},
   "outputs": [],
   "source": [
    "Word1='Hi... How are You?'\n",
    "Word2='Are You 24..?'\n",
    "Word3='i am fine'\n",
    "Word4='WHO ARE YOU?'"
   ]
  },
  {
   "cell_type": "code",
   "execution_count": 27,
   "id": "b390db41-bbad-43d0-843c-dbdf976af2d4",
   "metadata": {},
   "outputs": [
    {
     "name": "stdout",
     "output_type": "stream",
     "text": [
      "Hi... How are You?\n",
      "HI... HOW ARE YOU?\n",
      "hi... how are you?\n",
      "18\n"
     ]
    }
   ],
   "source": [
    "# word1\n",
    "print(Word1)\n",
    "print(Word1.upper())\n",
    "print(Word1.lower())\n",
    "print(len(Word1))"
   ]
  },
  {
   "cell_type": "code",
   "execution_count": 29,
   "id": "cc8e4d7d-bd98-4e98-9180-ea0df0769313",
   "metadata": {},
   "outputs": [
    {
     "name": "stdout",
     "output_type": "stream",
     "text": [
      "Are You 24..?\n",
      "ARE YOU 24..?\n",
      "are you 24..?\n",
      "13\n"
     ]
    }
   ],
   "source": [
    "# word2\n",
    "print(Word2)\n",
    "print(Word2.upper())\n",
    "print(Word2.lower())\n",
    "print(len(Word2))"
   ]
  },
  {
   "cell_type": "code",
   "execution_count": 31,
   "id": "060bb8a1-0153-4775-a1bb-fb58601dd2b2",
   "metadata": {},
   "outputs": [
    {
     "name": "stdout",
     "output_type": "stream",
     "text": [
      "i am fine\n",
      "I AM FINE\n",
      "i am fine\n",
      "9\n"
     ]
    }
   ],
   "source": [
    "# word3\n",
    "print(Word3)\n",
    "print(Word3.upper())\n",
    "print(Word3.lower())\n",
    "print(len(Word3))"
   ]
  },
  {
   "cell_type": "code",
   "execution_count": 33,
   "id": "80ade422-54c1-4435-8e9b-c5304e7acfcb",
   "metadata": {},
   "outputs": [
    {
     "name": "stdout",
     "output_type": "stream",
     "text": [
      "WHO ARE YOU?\n",
      "WHO ARE YOU?\n",
      "who are you?\n",
      "12\n"
     ]
    }
   ],
   "source": [
    "# word4\n",
    "print(Word4)\n",
    "print(Word4.upper())\n",
    "print(Word4.lower())\n",
    "print(len(Word4))"
   ]
  },
  {
   "cell_type": "code",
   "execution_count": 35,
   "id": "89bec279-2833-4f54-a219-2ff9875cfa8a",
   "metadata": {},
   "outputs": [
    {
     "name": "stdout",
     "output_type": "stream",
     "text": [
      "   I have decided to follow Jesus - 3,\n",
      "       No turning Back, No turning Back - 2\n",
      "   The world behind Me, The Cross before Me - 3\n",
      "       No turning Back, No turning Back - 2\n",
      "   Though all may leave me, Still I will follow - 3\n",
      "       No turning Back, No turning Back - 2\n",
      "270\n"
     ]
    }
   ],
   "source": [
    "Para1=\"\"\"   I have decided to follow Jesus - 3,\n",
    "       No turning Back, No turning Back - 2\n",
    "   The world behind Me, The Cross before Me - 3\n",
    "       No turning Back, No turning Back - 2\n",
    "   Though all may leave me, Still I will follow - 3\n",
    "       No turning Back, No turning Back - 2\"\"\"\n",
    "print(Para1)\n",
    "print(len(Para1))"
   ]
  },
  {
   "cell_type": "markdown",
   "id": "ecd5a413-3d0b-409d-ba11-70242021f8c1",
   "metadata": {},
   "source": [
    "#### strip(), upper(), lower() methods\n",
    "##### strip: to remove unwanted space"
   ]
  },
  {
   "cell_type": "code",
   "execution_count": 38,
   "id": "5383cbe0-c829-47e9-9b73-7cb0960f4bfb",
   "metadata": {},
   "outputs": [
    {
     "name": "stdout",
     "output_type": "stream",
     "text": [
      "   -I have decided to follow Jesus-   \n",
      "-I have decided to follow Jesus-\n",
      "   -I HAVE DECIDED TO FOLLOW JESUS-   \n",
      "   -i have decided to follow jesus-   \n",
      "38\n"
     ]
    }
   ],
   "source": [
    "Para2='   -I have decided to follow Jesus-   '\n",
    "print(Para2)\n",
    "print(Para2.strip())\n",
    "print(Para2.upper())\n",
    "print(Para2.lower())\n",
    "print(len(Para2))"
   ]
  },
  {
   "cell_type": "code",
   "execution_count": 40,
   "id": "78c1507d-ed53-49bd-a371-78dcacdd18bd",
   "metadata": {},
   "outputs": [
    {
     "name": "stdout",
     "output_type": "stream",
     "text": [
      "Joyson\n",
      "1050\n",
      "527\n",
      "Reji\n"
     ]
    }
   ],
   "source": [
    "Customer1_name='Joyson'\n",
    "Name1,Name2,Name3,Name4,Name5,Name6,Name7='Raju','Balu','Raja','Bala','Roja','Babu','Reji'\n",
    "Watch1_price=500\n",
    "Watch1,Watch2,Watch3,Watch4,Watch5,Watch6,Watch7=425,350,527,499,729,125,676\n",
    "Belt1_price=150\n",
    "Shirt1_price=200\n",
    "print(Customer1_name)\n",
    "print(Watch1_price+Belt1_price+(2*Shirt1_price))\n",
    "print(Watch3)\n",
    "print(Name7)"
   ]
  },
  {
   "cell_type": "code",
   "execution_count": 42,
   "id": "a9d1516d-84b3-45a8-8253-5b8a8bc81b3f",
   "metadata": {},
   "outputs": [
    {
     "name": "stdout",
     "output_type": "stream",
     "text": [
      "10500\n"
     ]
    }
   ],
   "source": [
    "Redmi_Note8=Black=White=Gray=Blue=Violet=10500\n",
    "print(Redmi_Note8)"
   ]
  },
  {
   "cell_type": "markdown",
   "id": "5377e045-d7c2-4c89-bd2d-cb82d56abd87",
   "metadata": {},
   "source": [
    "### slicing, length, strip(), upper(), lower()"
   ]
  },
  {
   "cell_type": "code",
   "execution_count": 45,
   "id": "81ec0e14-8d16-4ac2-8ff2-b960f0330346",
   "metadata": {},
   "outputs": [
    {
     "name": "stdout",
     "output_type": "stream",
     "text": [
      "5\n",
      "hello\n",
      "HELLO\n",
      "hello\n",
      "h\n",
      "e\n",
      "l\n",
      "he\n",
      "hell\n",
      "ell\n",
      "hel\n",
      "he\n"
     ]
    }
   ],
   "source": [
    "Word3='hello'\n",
    "print(len(Word3))\n",
    "print(Word3)\n",
    "print(Word3.upper())\n",
    "print(Word3.lower())\n",
    "print(Word3[0])\n",
    "print(Word3[1])\n",
    "print(Word3[2])\n",
    "print(Word3[0:2])\n",
    "print(Word3[0:4])\n",
    "print(Word3[1:4])\n",
    "print(Word3[-5:3])\n",
    "print(Word3[-5:-3])"
   ]
  },
  {
   "cell_type": "code",
   "execution_count": 47,
   "id": "9edcf77e-c717-438a-b53f-9043599a9842",
   "metadata": {},
   "outputs": [
    {
     "name": "stdout",
     "output_type": "stream",
     "text": [
      "8\n",
      "hi hello\n",
      "HI HELLO\n",
      "hi hello\n",
      "h\n",
      "hi\n",
      "hi h\n",
      "i h\n",
      "i hel\n"
     ]
    }
   ],
   "source": [
    "Word4='hi hello'\n",
    "print(len(Word4))\n",
    "print(Word4)\n",
    "print(Word4.upper())\n",
    "print(Word4.lower())\n",
    "print(Word4[0:1])\n",
    "print(Word4[0:2])\n",
    "print(Word4[0:4])\n",
    "print(Word4[1:4])\n",
    "print(Word4[1:6])"
   ]
  },
  {
   "cell_type": "code",
   "execution_count": 49,
   "id": "0313686b-74a0-472b-8139-d92c7ddb03b2",
   "metadata": {},
   "outputs": [
    {
     "name": "stdout",
     "output_type": "stream",
     "text": [
      "12\n",
      "hello, world\n",
      "HELLO, WORLD\n",
      "hello, world\n",
      "hello,\n"
     ]
    }
   ],
   "source": [
    "Word5='hello, world'\n",
    "print(len(Word5))\n",
    "print(Word5)\n",
    "print(Word5.upper())\n",
    "print(Word5.lower())\n",
    "print(Word5[0:6])"
   ]
  },
  {
   "cell_type": "markdown",
   "id": "e2835184-8f09-4b45-80aa-c6839f381da2",
   "metadata": {},
   "source": [
    "### replace, split"
   ]
  },
  {
   "cell_type": "code",
   "execution_count": 52,
   "id": "7c7bbc6a-59fe-49fb-9eac-5373188a96b3",
   "metadata": {},
   "outputs": [
    {
     "name": "stdout",
     "output_type": "stream",
     "text": [
      "Raju\n",
      "Raja\n",
      "Roja\n",
      "Reji\n",
      "Rani\n",
      "Rosy\n",
      "Ram\n",
      "Raja rathinam\n",
      "['', 'aju']\n",
      "['Raj', '']\n",
      "['Ra', 'u']\n"
     ]
    }
   ],
   "source": [
    "Name1,Name2='Raju','Balu'\n",
    "print(Name1)\n",
    "print(Name1.replace('u','a'))\n",
    "print(Name1.replace('a','o').replace('u','a'))\n",
    "print(Name1.replace('a','e').replace('u','i'))\n",
    "print(Name1.replace('j','n').replace('u','i'))\n",
    "print(Name1.replace('a','o').replace('j','s').replace('u','y'))\n",
    "print(Name1.replace('ju','m'))\n",
    "print(Name1.replace('u','a rathinam'))\n",
    "print(Name1.split('R'))\n",
    "print(Name1.split('u'))\n",
    "print(Name1.split('j'))"
   ]
  },
  {
   "cell_type": "code",
   "execution_count": 54,
   "id": "c68c99ec-9ca2-4f99-a482-c62fb82f1725",
   "metadata": {},
   "outputs": [
    {
     "name": "stdout",
     "output_type": "stream",
     "text": [
      "Balu\n",
      "Bala\n",
      "Babu\n",
      "Baba\n",
      "Bat\n",
      "Bala subramanian\n"
     ]
    }
   ],
   "source": [
    "print(Name2)\n",
    "print(Name2.replace('u','a'))\n",
    "print(Name2.replace('l','b'))\n",
    "print(Name2.replace('l','b').replace('u','a'))\n",
    "print(Name2.replace('lu','t'))\n",
    "print(Name2.replace('u','a subramanian'))"
   ]
  },
  {
   "cell_type": "markdown",
   "id": "30eb64d1-44a7-4ee1-b77d-a922872e099c",
   "metadata": {},
   "source": [
    "### true or false = yes or no type"
   ]
  },
  {
   "cell_type": "code",
   "execution_count": 57,
   "id": "49191b01-d93f-4e14-8567-61a3208ca02e",
   "metadata": {},
   "outputs": [
    {
     "name": "stdout",
     "output_type": "stream",
     "text": [
      "True\n",
      "False\n"
     ]
    }
   ],
   "source": [
    "print('ju' in Name1)\n",
    "print('Ball' in Name2)"
   ]
  },
  {
   "cell_type": "code",
   "execution_count": 59,
   "id": "9492b618-9640-49c4-be7f-47249604cfb8",
   "metadata": {},
   "outputs": [
    {
     "name": "stdout",
     "output_type": "stream",
     "text": [
      "Carrot\n",
      "('Carrot', 'Tomato', 'Potato')\n",
      "True\n",
      "False\n"
     ]
    }
   ],
   "source": [
    "Vegitable1,Vegitable2,Vegitable3='Carrot','Tomato','Potato'\n",
    "Vegitables='Carrot','Tomato','Potato'\n",
    "print(Vegitable1)\n",
    "print(Vegitables)\n",
    "print('Carrot' in Vegitables)\n",
    "print('Onion' in Vegitables)"
   ]
  },
  {
   "cell_type": "markdown",
   "id": "12fa361b-87d9-4179-9d32-a7a5c8434ea2",
   "metadata": {},
   "source": [
    "### Concordination = addition of strings"
   ]
  },
  {
   "cell_type": "code",
   "execution_count": 62,
   "id": "90f2f274-9cc2-4f33-bc55-7199bfb3cd5a",
   "metadata": {},
   "outputs": [
    {
     "name": "stdout",
     "output_type": "stream",
     "text": [
      "HiKarthikcome here...\n",
      "Hi Karthik come here...\n"
     ]
    }
   ],
   "source": [
    "a1='Hi'\n",
    "a2='Karthik'\n",
    "a3='come here...'\n",
    "print(a1+a2+a3)\n",
    "a2=' Karthik'\n",
    "a3=' come here...'\n",
    "print(a1+a2+a3)"
   ]
  },
  {
   "cell_type": "markdown",
   "id": "275aebd4-c1d3-4b4b-9c06-d7f342073e8f",
   "metadata": {},
   "source": [
    "### Boolean"
   ]
  },
  {
   "cell_type": "code",
   "execution_count": 65,
   "id": "05051dbc-4967-4429-83f2-6de7b5f3d64b",
   "metadata": {},
   "outputs": [
    {
     "name": "stdout",
     "output_type": "stream",
     "text": [
      "True\n",
      "False\n",
      "True\n",
      "False\n",
      "True\n",
      "True\n",
      "False\n",
      "True\n"
     ]
    }
   ],
   "source": [
    "print(1==1)\n",
    "print(1==2)\n",
    "print(5>2)\n",
    "print(5<2)\n",
    "print(5>=2)\n",
    "print(5>=5)\n",
    "print(5<=2)\n",
    "print(5<=5)"
   ]
  },
  {
   "cell_type": "markdown",
   "id": "38952dd7-7e6c-408b-86e5-cf6bdbbb40f3",
   "metadata": {},
   "source": [
    "### casting => float, integer, string => Changing Data types"
   ]
  },
  {
   "cell_type": "code",
   "execution_count": 68,
   "id": "eb2a6e43-9c23-45d4-a150-7857b6468009",
   "metadata": {},
   "outputs": [
    {
     "name": "stdout",
     "output_type": "stream",
     "text": [
      "10 10.1 210.2\n"
     ]
    }
   ],
   "source": [
    "a=10\n",
    "b=10.10\n",
    "c=210.20\n",
    "print(a,b,c)"
   ]
  },
  {
   "cell_type": "code",
   "execution_count": 70,
   "id": "dab78731-b6ad-4ff6-af4a-67176d2866b5",
   "metadata": {},
   "outputs": [
    {
     "name": "stdout",
     "output_type": "stream",
     "text": [
      "10.0\n"
     ]
    }
   ],
   "source": [
    "    # int to float\n",
    "d=float(10)\n",
    "print(d)"
   ]
  },
  {
   "cell_type": "code",
   "execution_count": 72,
   "id": "51f3511b-88bd-4fd1-b6f2-5bc6ccc38acd",
   "metadata": {},
   "outputs": [
    {
     "name": "stdout",
     "output_type": "stream",
     "text": [
      "10\n"
     ]
    }
   ],
   "source": [
    "    # float to int\n",
    "e=int(10.10)\n",
    "print(e)"
   ]
  },
  {
   "cell_type": "code",
   "execution_count": 74,
   "id": "4ed54579-32a1-4ddc-b0b3-63c6bfc5d001",
   "metadata": {},
   "outputs": [
    {
     "name": "stdout",
     "output_type": "stream",
     "text": [
      "10.0 10 320.6\n"
     ]
    }
   ],
   "source": [
    "    # float to str\n",
    "f=str(320.60)\n",
    "print(d,e,f)"
   ]
  },
  {
   "cell_type": "code",
   "execution_count": 76,
   "id": "cd887337-6a9d-4617-83de-bedc1533fd8f",
   "metadata": {},
   "outputs": [
    {
     "name": "stdout",
     "output_type": "stream",
     "text": [
      "(210.2+0j)\n"
     ]
    }
   ],
   "source": [
    "    # float to complex\n",
    "g=complex(210.20)\n",
    "print(g)"
   ]
  },
  {
   "cell_type": "code",
   "execution_count": 78,
   "id": "313d5dc8-6c97-487a-b247-82d411de8789",
   "metadata": {},
   "outputs": [
    {
     "name": "stdout",
     "output_type": "stream",
     "text": [
      "(30+8.7j)\n"
     ]
    }
   ],
   "source": [
    "    # int & float to complex\n",
    "h=complex(30,8.7)\n",
    "print(h)"
   ]
  },
  {
   "cell_type": "code",
   "execution_count": 80,
   "id": "6757bbfb-e764-4b1e-aa84-948a1da389b6",
   "metadata": {},
   "outputs": [
    {
     "name": "stdout",
     "output_type": "stream",
     "text": [
      "1\n",
      "0\n"
     ]
    }
   ],
   "source": [
    "    # bool to int\n",
    "print(int(True))\n",
    "print(int(False))"
   ]
  },
  {
   "cell_type": "code",
   "execution_count": 82,
   "id": "034a2339-a9cd-45ab-9523-0860f8da6b7f",
   "metadata": {},
   "outputs": [
    {
     "name": "stdout",
     "output_type": "stream",
     "text": [
      "True\n",
      "False\n"
     ]
    }
   ],
   "source": [
    "    # int to bool\n",
    "print(bool(1))\n",
    "print(bool(0))"
   ]
  },
  {
   "cell_type": "code",
   "execution_count": 84,
   "id": "d35ac89f-4bd6-44c3-a483-df3662b7641e",
   "metadata": {},
   "outputs": [
    {
     "name": "stdout",
     "output_type": "stream",
     "text": [
      "1.0\n"
     ]
    }
   ],
   "source": [
    "    # bool to float\n",
    "print(float(True))"
   ]
  },
  {
   "cell_type": "markdown",
   "id": "7913155a-76f4-46f2-9f62-58b232e4fd36",
   "metadata": {},
   "source": [
    "#### type"
   ]
  },
  {
   "cell_type": "code",
   "execution_count": 87,
   "id": "ce5a5150-d066-4f7e-8b03-6b3e059254b2",
   "metadata": {},
   "outputs": [
    {
     "name": "stdout",
     "output_type": "stream",
     "text": [
      "<class 'int'>\n",
      "<class 'float'>\n",
      "<class 'str'>\n",
      "<class 'complex'>\n",
      "<class 'bool'>\n"
     ]
    }
   ],
   "source": [
    "a=10\n",
    "b=10.10\n",
    "c='htp3'\n",
    "d=2+5j\n",
    "e=True\n",
    "print(type(a))\n",
    "print(type(b))\n",
    "print(type(c))\n",
    "print(type(d))\n",
    "print(type(e))"
   ]
  },
  {
   "cell_type": "markdown",
   "id": "a7b00f1d-4412-44fa-98d6-c488509c75e8",
   "metadata": {},
   "source": [
    "### List"
   ]
  },
  {
   "cell_type": "code",
   "execution_count": 90,
   "id": "8469b4ec-bd4c-49ef-b89e-0c674205e559",
   "metadata": {},
   "outputs": [
    {
     "name": "stdout",
     "output_type": "stream",
     "text": [
      "['apple', 'orange', 'banana', 'grapes']\n",
      "apple\n",
      "orange\n",
      "grapes\n",
      "['apple']\n",
      "['orange', 'banana']\n",
      "['apple', 'orange', 'banana']\n",
      "['orange', 'banana', 'grapes']\n"
     ]
    }
   ],
   "source": [
    "fruits=['apple','orange','banana','grapes']\n",
    "print(fruits)\n",
    "print(fruits[0])\n",
    "print(fruits[1])\n",
    "print(fruits[-1])\n",
    "print(fruits[0:1])\n",
    "print(fruits[1:-1])\n",
    "print(fruits[0:3])\n",
    "print(fruits[1:4])"
   ]
  },
  {
   "cell_type": "markdown",
   "id": "916ec442-0806-475e-8be0-7f329626e9a4",
   "metadata": {},
   "source": [
    "### List: changing position in a List"
   ]
  },
  {
   "cell_type": "code",
   "execution_count": 93,
   "id": "5c998ed8-be56-435a-952e-5f2b00e63453",
   "metadata": {},
   "outputs": [
    {
     "name": "stdout",
     "output_type": "stream",
     "text": [
      "['apple', 'orange', 'banana', 'grapes']\n",
      "['apple', 'mango', 'banana', 'grapes']\n",
      "['apple', 'mango', 'cherry', 'grapes']\n",
      "4\n"
     ]
    }
   ],
   "source": [
    "fruits=['apple','orange','banana','grapes']\n",
    "print(fruits)\n",
    "fruits[1]='mango'  # to change 1st position\n",
    "print(fruits)\n",
    "fruits[2]='cherry'  # to change 2nd position\n",
    "print(fruits)\n",
    "print(len(fruits))"
   ]
  },
  {
   "cell_type": "markdown",
   "id": "e644a6cc-32e8-424b-9b76-b90f504ad0ca",
   "metadata": {},
   "source": [
    "### List for append (add), remove"
   ]
  },
  {
   "cell_type": "code",
   "execution_count": 96,
   "id": "369c1c49-627b-4388-8edc-bb49f758a74e",
   "metadata": {},
   "outputs": [
    {
     "name": "stdout",
     "output_type": "stream",
     "text": [
      "['apple', 'orange', 'banana', 'grapes', 'watermelon']\n",
      "['orange', 'banana', 'grapes', 'watermelon']\n",
      "['watermelon', 'grapes', 'banana', 'orange']\n",
      "['banana', 'grapes', 'orange', 'watermelon']\n"
     ]
    }
   ],
   "source": [
    "fruits=['apple','orange','banana','grapes']\n",
    "fruits.append('watermelon')  # to add 'new'\n",
    "print(fruits)\n",
    "fruits.remove('apple')\n",
    "print(fruits)\n",
    "fruits.reverse()\n",
    "print(fruits)\n",
    "fruits.sort()\n",
    "print(fruits)"
   ]
  },
  {
   "cell_type": "markdown",
   "id": "4cbee63b-871a-4f7d-b996-4b619e53eebe",
   "metadata": {},
   "source": [
    "### to make ascending order\n",
    "#### sort() method"
   ]
  },
  {
   "cell_type": "code",
   "execution_count": 99,
   "id": "a18d34c9-eb17-44df-9231-21640117c7e0",
   "metadata": {},
   "outputs": [
    {
     "name": "stdout",
     "output_type": "stream",
     "text": [
      "[14, 26, 34, 52, 76, 450, 709, 5800]\n",
      "[9, 57, 65, 94, 102, 180, 801, 8300]\n"
     ]
    }
   ],
   "source": [
    "number1=[34,450,52,14,76,26,5800,709]\n",
    "number2=[57,9,65,180,102,8300,801,94]\n",
    "number1.sort()\n",
    "print(number1)\n",
    "number2.sort(reverse=False)\n",
    "print(number2)"
   ]
  },
  {
   "cell_type": "markdown",
   "id": "1733a1d8-6a41-4b1d-a627-9cc73e4da4f8",
   "metadata": {},
   "source": [
    "### to make decending order\n",
    "#### reverse() method"
   ]
  },
  {
   "cell_type": "code",
   "execution_count": 102,
   "id": "fb05f523-0155-4451-800d-99ca9d0d5abc",
   "metadata": {},
   "outputs": [
    {
     "name": "stdout",
     "output_type": "stream",
     "text": [
      "[5800, 709, 450, 76, 52, 34, 26, 14]\n",
      "[8300, 801, 180, 102, 94, 65, 57, 9]\n"
     ]
    }
   ],
   "source": [
    "number1.reverse()\n",
    "print(number1)\n",
    "number2.sort(reverse=True)\n",
    "print(number2)"
   ]
  },
  {
   "cell_type": "markdown",
   "id": "7583f67d-9798-414d-b81a-a3f221cb572b",
   "metadata": {},
   "source": [
    "#### to add 2 lists\n",
    "###### using '+'"
   ]
  },
  {
   "cell_type": "code",
   "execution_count": 109,
   "id": "aac4f2d9-5fbc-4464-9333-886a3aebe353",
   "metadata": {},
   "outputs": [
    {
     "name": "stdout",
     "output_type": "stream",
     "text": [
      "['apple', 'orange', 'banana', 'grapes', 5800, 709, 450, 76, 52, 34, 26, 14]\n"
     ]
    }
   ],
   "source": [
    "fruits=['apple','orange','banana','grapes']\n",
    "new_list=fruits+number1\n",
    "print(new_list)"
   ]
  },
  {
   "cell_type": "markdown",
   "id": "a5b91da4-4fc4-4b3f-b519-af130465340c",
   "metadata": {},
   "source": [
    "#### Dictionary"
   ]
  },
  {
   "cell_type": "code",
   "execution_count": 112,
   "id": "6dda24f0-4ec2-439b-8e1b-f30ecca36823",
   "metadata": {},
   "outputs": [
    {
     "name": "stdout",
     "output_type": "stream",
     "text": [
      "{'name': 'Joyson', 'gender': 'male', 'age': 24}\n"
     ]
    }
   ],
   "source": [
    "my_data={\n",
    "    'name':'Joyson',\n",
    "    'gender':'male',\n",
    "    'age':24\n",
    "}\n",
    "print(my_data)"
   ]
  },
  {
   "cell_type": "markdown",
   "id": "bc09fd13-b570-4481-b82a-b0087ae39ccd",
   "metadata": {},
   "source": [
    "#### to get a data from dictionary"
   ]
  },
  {
   "cell_type": "code",
   "execution_count": 115,
   "id": "2eb09044-658d-4a8a-bcb5-59fab62e4ebb",
   "metadata": {},
   "outputs": [
    {
     "name": "stdout",
     "output_type": "stream",
     "text": [
      "Joyson\n",
      "24\n"
     ]
    }
   ],
   "source": [
    "print(my_data.get('name'))  \n",
    "print(my_data.get('age'))"
   ]
  },
  {
   "cell_type": "markdown",
   "id": "da6d77de-d192-4b27-b6e2-7600fc048685",
   "metadata": {},
   "source": [
    "#### to update a data in Dictionary"
   ]
  },
  {
   "cell_type": "code",
   "execution_count": 118,
   "id": "477ca24d-5376-4349-bd1a-cf9ffc87155d",
   "metadata": {},
   "outputs": [
    {
     "name": "stdout",
     "output_type": "stream",
     "text": [
      "26\n"
     ]
    }
   ],
   "source": [
    "my_data={\n",
    "    'name':'Joyson',\n",
    "    'gender':'male',\n",
    "    'age':24\n",
    "}\n",
    "my_data['age']=26\n",
    "print(my_data.get('age'))"
   ]
  },
  {
   "cell_type": "markdown",
   "id": "cdd07255-7249-4057-b5f6-d86be5289961",
   "metadata": {},
   "source": [
    "# If, Elif, Else statements"
   ]
  },
  {
   "cell_type": "code",
   "execution_count": 121,
   "id": "5947df9f-a0da-416f-9c4d-b97a03ea199d",
   "metadata": {},
   "outputs": [
    {
     "name": "stdout",
     "output_type": "stream",
     "text": [
      "you have to wait till 18\n"
     ]
    }
   ],
   "source": [
    "# 1\n",
    "age=15\n",
    "if age >18:\n",
    "    print('you can vote in election')\n",
    "elif age==18:\n",
    "    print('apply for vote id')\n",
    "else:\n",
    "    print('you have to wait till 18')"
   ]
  },
  {
   "cell_type": "code",
   "execution_count": 123,
   "id": "d8d3e40d-b832-494e-bfda-0f7f0085543c",
   "metadata": {},
   "outputs": [
    {
     "name": "stdout",
     "output_type": "stream",
     "text": [
      "you can vote in election\n"
     ]
    }
   ],
   "source": [
    "# 2\n",
    "age=20\n",
    "if age >18:\n",
    "    print('you can vote in election')\n",
    "elif age==18:\n",
    "    print('apply for vote id')\n",
    "else:\n",
    "    print('you have to wait till 18')"
   ]
  },
  {
   "cell_type": "code",
   "execution_count": 125,
   "id": "f46fe11d-e141-467b-8292-15e0b39aef31",
   "metadata": {},
   "outputs": [
    {
     "name": "stdout",
     "output_type": "stream",
     "text": [
      "apply for vote id\n"
     ]
    }
   ],
   "source": [
    "# 3\n",
    "age=18\n",
    "if age >18:\n",
    "    print('you can vote in election')\n",
    "elif age==18:\n",
    "    print('apply for vote id')\n",
    "else:\n",
    "    print('you have to wait till 18')"
   ]
  },
  {
   "cell_type": "markdown",
   "id": "45dfaf74-a033-4a35-8609-939e03a9b58c",
   "metadata": {},
   "source": [
    "### if with and / or"
   ]
  },
  {
   "cell_type": "code",
   "execution_count": 128,
   "id": "d2ff1fbe-333c-4b0d-88ba-b88b0476ce2e",
   "metadata": {},
   "outputs": [
    {
     "name": "stdout",
     "output_type": "stream",
     "text": [
      "incorrect\n"
     ]
    }
   ],
   "source": [
    "# 1\n",
    "a,b=10,20\n",
    "if a==10 and b==10:\n",
    "    print('correct')\n",
    "else:\n",
    "    print('incorrect')"
   ]
  },
  {
   "cell_type": "code",
   "execution_count": 130,
   "id": "8ea6d6c0-5802-434e-94c1-d34ab420b4c4",
   "metadata": {},
   "outputs": [
    {
     "name": "stdout",
     "output_type": "stream",
     "text": [
      "correct\n"
     ]
    }
   ],
   "source": [
    "# 2\n",
    "a,b=10,20\n",
    "if a==10 and b==20:\n",
    "    print('correct')\n",
    "else:\n",
    "    print('incorrect')"
   ]
  },
  {
   "cell_type": "code",
   "execution_count": 132,
   "id": "7681ff27-fd8b-40b0-af6c-5cc87c5605d9",
   "metadata": {},
   "outputs": [
    {
     "name": "stdout",
     "output_type": "stream",
     "text": [
      "correct\n"
     ]
    }
   ],
   "source": [
    "# 3\n",
    "a,b=10,20\n",
    "if a==10 or b==10:\n",
    "    print('correct')\n",
    "else:\n",
    "    print('incorrect')"
   ]
  },
  {
   "cell_type": "markdown",
   "id": "2393218e-6a6d-4771-b1dd-ec6557f2bf65",
   "metadata": {},
   "source": [
    "### if within if (nesting of if) / (nested if)"
   ]
  },
  {
   "cell_type": "code",
   "execution_count": 135,
   "id": "5b10fabe-1ec8-4dac-984c-aeb00357eca4",
   "metadata": {},
   "outputs": [
    {
     "name": "stdout",
     "output_type": "stream",
     "text": [
      "correct\n",
      "get out\n"
     ]
    }
   ],
   "source": [
    "a,b=10,20\n",
    "if a==10 or b==10:\n",
    "    print('correct')\n",
    "    if b==10:\n",
    "        print('hi')\n",
    "    else:\n",
    "        print('get out')\n",
    "else:\n",
    "    print('incorrect')"
   ]
  },
  {
   "cell_type": "markdown",
   "id": "c28b78da-9315-454f-8d16-6dd314e71609",
   "metadata": {},
   "source": [
    "### Defining a Function"
   ]
  },
  {
   "cell_type": "markdown",
   "id": "32fe069d-d4c0-40e2-8b58-4e1bc0f7cb18",
   "metadata": {},
   "source": [
    "#### Functions of def (without parameters)"
   ]
  },
  {
   "cell_type": "code",
   "execution_count": 139,
   "id": "bf2eaf9d-baae-467b-af0d-c342e2ca719e",
   "metadata": {},
   "outputs": [
    {
     "name": "stdout",
     "output_type": "stream",
     "text": [
      "12\n",
      "12\n"
     ]
    }
   ],
   "source": [
    "def addition():\n",
    "    a=5\n",
    "    b=7\n",
    "    print(a+b)\n",
    "addition()\n",
    "addition()"
   ]
  },
  {
   "cell_type": "code",
   "execution_count": 141,
   "id": "568bf1f7-4a2e-4710-8e50-4f0f2e49eb5b",
   "metadata": {},
   "outputs": [
    {
     "name": "stdout",
     "output_type": "stream",
     "text": [
      "2\n",
      "2\n"
     ]
    }
   ],
   "source": [
    "def subtraction():\n",
    "    a=7\n",
    "    b=5\n",
    "    print(a-b)\n",
    "subtraction()\n",
    "subtraction()"
   ]
  },
  {
   "cell_type": "markdown",
   "id": "7a83780b-de52-440d-8cfc-9dabe7963d9d",
   "metadata": {},
   "source": [
    "#### Functions of def (with parameters)"
   ]
  },
  {
   "cell_type": "code",
   "execution_count": 144,
   "id": "528094fe-4d65-4697-8261-1e8554ab9f1d",
   "metadata": {},
   "outputs": [
    {
     "name": "stdout",
     "output_type": "stream",
     "text": [
      "-3\n",
      "5\n",
      "-1\n"
     ]
    }
   ],
   "source": [
    "def see(a,b):\n",
    "    print(a-b)\n",
    "see(6,9)\n",
    "see(8,3)\n",
    "see(4,5)"
   ]
  },
  {
   "cell_type": "code",
   "execution_count": 146,
   "id": "fb8bd067-4f00-4761-b794-b1794ef64991",
   "metadata": {},
   "outputs": [
    {
     "name": "stdout",
     "output_type": "stream",
     "text": [
      "Hi,Balu\n"
     ]
    }
   ],
   "source": [
    "def hi(name):\n",
    "    print('Hi,'+name)\n",
    "hi('Balu')"
   ]
  },
  {
   "cell_type": "code",
   "execution_count": 148,
   "id": "843ff711-5dfb-4cca-950f-0735f9951b00",
   "metadata": {},
   "outputs": [
    {
     "name": "stdout",
     "output_type": "stream",
     "text": [
      "5\n",
      "3\n",
      "6\n"
     ]
    }
   ],
   "source": [
    "def fun(a):\n",
    "    return a\n",
    "print(fun(5))\n",
    "print(fun(3))\n",
    "print(fun(6))"
   ]
  },
  {
   "cell_type": "code",
   "execution_count": 150,
   "id": "fe6e5748-ffb7-46e6-b7c3-d4e1ee5cbfdd",
   "metadata": {},
   "outputs": [
    {
     "name": "stdout",
     "output_type": "stream",
     "text": [
      "500\n",
      "300\n",
      "600\n"
     ]
    }
   ],
   "source": [
    "def fun(a):\n",
    "    return a*100\n",
    "print(fun(5))\n",
    "print(fun(3))\n",
    "print(fun(6))"
   ]
  },
  {
   "cell_type": "code",
   "execution_count": 152,
   "id": "b00e20ed-51ad-4b1d-ba31-a541c8c7b597",
   "metadata": {},
   "outputs": [
    {
     "name": "stdout",
     "output_type": "stream",
     "text": [
      "15\n",
      "11\n",
      "9\n"
     ]
    }
   ],
   "source": [
    "def addition(a,b):\n",
    "    print(a+b)\n",
    "addition(6,9)\n",
    "addition(8,3)\n",
    "addition(4,5)"
   ]
  },
  {
   "cell_type": "markdown",
   "id": "6f6d9a5b-adcd-4d66-a77c-2b2428086906",
   "metadata": {},
   "source": [
    "### For loop"
   ]
  },
  {
   "cell_type": "code",
   "execution_count": 155,
   "id": "ef37e419-6629-4b63-a93e-7ee77e73b8c5",
   "metadata": {},
   "outputs": [
    {
     "name": "stdout",
     "output_type": "stream",
     "text": [
      "M\n",
      "a\n",
      "n\n",
      "i\n"
     ]
    }
   ],
   "source": [
    "name='Mani'\n",
    "for letters in name:\n",
    "    print(letters)"
   ]
  },
  {
   "cell_type": "code",
   "execution_count": 157,
   "id": "6c7af4b9-84a8-4d44-a13c-53d8376e289b",
   "metadata": {},
   "outputs": [
    {
     "name": "stdout",
     "output_type": "stream",
     "text": [
      "apple\n",
      "orange\n",
      "mango\n"
     ]
    }
   ],
   "source": [
    "fruits=['apple','orange','mango']\n",
    "for fruit in fruits:\n",
    "    print(fruit)"
   ]
  },
  {
   "cell_type": "code",
   "execution_count": 159,
   "id": "c69e2318-8a95-4524-890c-ba5be549e51a",
   "metadata": {},
   "outputs": [
    {
     "name": "stdout",
     "output_type": "stream",
     "text": [
      "h\n",
      "i\n",
      ",\n",
      " \n",
      "w\n",
      "e\n",
      "l\n",
      "c\n",
      "o\n",
      "m\n",
      "e\n"
     ]
    }
   ],
   "source": [
    "for i in 'hi, welcome':\n",
    "    print(i)"
   ]
  },
  {
   "cell_type": "code",
   "execution_count": 161,
   "id": "0db22b60-548b-4ed4-a98a-2ba8b0721af9",
   "metadata": {},
   "outputs": [
    {
     "name": "stdout",
     "output_type": "stream",
     "text": [
      ", is not present\n",
      ", is not present\n",
      ", is present\n",
      ", is not present\n",
      ", is not present\n",
      ", is not present\n",
      ", is not present\n",
      ", is not present\n",
      ", is not present\n",
      ", is not present\n",
      ", is not present\n"
     ]
    }
   ],
   "source": [
    "for i in 'hi, welcome':\n",
    "    if i ==',':\n",
    "        print(', is present')\n",
    "    else:\n",
    "        print(', is not present')"
   ]
  },
  {
   "cell_type": "markdown",
   "id": "5cd8ac99-d312-4806-8f6e-455e52702737",
   "metadata": {},
   "source": [
    "### Break loop"
   ]
  },
  {
   "cell_type": "code",
   "execution_count": 164,
   "id": "b700f505-d0fe-4c7c-964e-49e6bc328b4b",
   "metadata": {},
   "outputs": [
    {
     "name": "stdout",
     "output_type": "stream",
     "text": [
      ", is not present\n",
      ", is not present\n",
      ", is present\n"
     ]
    }
   ],
   "source": [
    "for i in 'hi, welcome':\n",
    "    if i ==',':\n",
    "        print(', is present')\n",
    "        break\n",
    "    else:\n",
    "        print(', is not present')"
   ]
  },
  {
   "cell_type": "markdown",
   "id": "ee6a8d2f-3bbb-497e-a081-c79b03e3b652",
   "metadata": {},
   "source": [
    "### Continue loop"
   ]
  },
  {
   "cell_type": "code",
   "execution_count": 167,
   "id": "454dda6d-95f1-41d4-bf84-7ab25b3355fe",
   "metadata": {},
   "outputs": [
    {
     "name": "stdout",
     "output_type": "stream",
     "text": [
      "come on\n",
      "come on\n",
      "come on\n",
      "come on\n",
      "come on\n",
      "come on\n",
      "come on\n",
      "come on\n",
      "come on\n",
      "come on\n"
     ]
    }
   ],
   "source": [
    "for i in 'hi, welcome':\n",
    "    if i ==',':\n",
    "        continue\n",
    "    else:\n",
    "        print('come on')"
   ]
  },
  {
   "cell_type": "markdown",
   "id": "4b304680-545e-4f4f-93aa-d2041d4d2cc0",
   "metadata": {},
   "source": [
    "### Range loop"
   ]
  },
  {
   "cell_type": "markdown",
   "id": "f1ba1957-ef4f-4469-b895-cada9d11a16f",
   "metadata": {},
   "source": [
    "##### 1 parameter"
   ]
  },
  {
   "cell_type": "code",
   "execution_count": 171,
   "id": "3fabb058-3cc0-4515-8587-18a244093ae7",
   "metadata": {},
   "outputs": [
    {
     "name": "stdout",
     "output_type": "stream",
     "text": [
      "0\n",
      "1\n"
     ]
    }
   ],
   "source": [
    "for number in range(2):\n",
    "    print(number)"
   ]
  },
  {
   "cell_type": "code",
   "execution_count": 173,
   "id": "d96c9811-1ed4-4ced-a63e-f93b55c91819",
   "metadata": {},
   "outputs": [
    {
     "name": "stdout",
     "output_type": "stream",
     "text": [
      "0\n",
      "1\n",
      "2\n",
      "3\n",
      "4\n"
     ]
    }
   ],
   "source": [
    "for number in range(5):\n",
    "    print(number)"
   ]
  },
  {
   "cell_type": "markdown",
   "id": "7c698001-9d33-44af-9917-15ce3e983719",
   "metadata": {},
   "source": [
    "##### 2 parameters"
   ]
  },
  {
   "cell_type": "code",
   "execution_count": 176,
   "id": "2d293644-8407-42f0-8757-156f93da563e",
   "metadata": {},
   "outputs": [
    {
     "name": "stdout",
     "output_type": "stream",
     "text": [
      "2\n",
      "3\n",
      "4\n",
      "5\n"
     ]
    }
   ],
   "source": [
    "for number in range(2,6):\n",
    "    print(number)"
   ]
  },
  {
   "cell_type": "markdown",
   "id": "3d026ade-1ea4-4f86-aa90-b5abee60c234",
   "metadata": {},
   "source": [
    "##### 3 parameters"
   ]
  },
  {
   "cell_type": "code",
   "execution_count": 179,
   "id": "8b613962-2d5f-4863-9a18-fb7f4df63e86",
   "metadata": {},
   "outputs": [
    {
     "name": "stdout",
     "output_type": "stream",
     "text": [
      "10\n",
      "15\n"
     ]
    }
   ],
   "source": [
    "for number in range(10,20,5):\n",
    "    print(number)"
   ]
  },
  {
   "cell_type": "code",
   "execution_count": 181,
   "id": "8515ce3c-f813-49a8-80e3-54723af8c2b4",
   "metadata": {},
   "outputs": [
    {
     "name": "stdout",
     "output_type": "stream",
     "text": [
      "10\n",
      "14\n",
      "18\n",
      "22\n",
      "26\n"
     ]
    }
   ],
   "source": [
    "for number in range(10,30,4):\n",
    "    print(number)"
   ]
  },
  {
   "cell_type": "markdown",
   "id": "15c039c4-dbbf-4cb5-9160-af047c0569ce",
   "metadata": {},
   "source": [
    "### For_else"
   ]
  },
  {
   "cell_type": "code",
   "execution_count": 184,
   "id": "3ddcd35d-e9cf-4de0-a382-2ee22f47e1a6",
   "metadata": {},
   "outputs": [
    {
     "name": "stdout",
     "output_type": "stream",
     "text": [
      "0\n",
      "1\n",
      "2\n",
      "all numbers are finished\n"
     ]
    }
   ],
   "source": [
    "for number in range(3):\n",
    "    print(number)\n",
    "else:\n",
    "    print('all numbers are finished')"
   ]
  },
  {
   "cell_type": "markdown",
   "id": "3aa90534-7222-45e6-bcf2-4e30f7a42a33",
   "metadata": {},
   "source": [
    "### For loop within for loop"
   ]
  },
  {
   "cell_type": "code",
   "execution_count": 187,
   "id": "19e0e729-3945-41a4-b9fe-8c3c03f9e6bb",
   "metadata": {},
   "outputs": [
    {
     "name": "stdout",
     "output_type": "stream",
     "text": [
      "0\n",
      "0\n",
      "1\n",
      "1\n",
      "0\n",
      "1\n",
      "2\n",
      "0\n",
      "1\n",
      "all numbers are finished\n"
     ]
    }
   ],
   "source": [
    "for number in range(3):\n",
    "    print(number)\n",
    "    for i in range(2):\n",
    "        print(i)\n",
    "else:\n",
    "    print('all numbers are finished')"
   ]
  },
  {
   "cell_type": "markdown",
   "id": "fc9e230d-de64-4e47-b569-a0eb6e1139b0",
   "metadata": {},
   "source": [
    "### While loop"
   ]
  },
  {
   "cell_type": "code",
   "execution_count": 190,
   "id": "cb0fdfa6-9709-4a30-bfa5-47201abbb7a2",
   "metadata": {},
   "outputs": [
    {
     "name": "stdout",
     "output_type": "stream",
     "text": [
      "1\n",
      "2\n",
      "3\n",
      "4\n"
     ]
    }
   ],
   "source": [
    "i=1\n",
    "while i<5:\n",
    "    print(i)\n",
    "    i+=1"
   ]
  },
  {
   "cell_type": "markdown",
   "id": "955ac3fc-160e-44e8-8ca4-b08a2d4fcc3b",
   "metadata": {},
   "source": [
    "### While_else"
   ]
  },
  {
   "cell_type": "code",
   "execution_count": 193,
   "id": "c9fd9af9-ed63-403c-8e38-e76d8a58976a",
   "metadata": {},
   "outputs": [
    {
     "name": "stdout",
     "output_type": "stream",
     "text": [
      "1\n",
      "2\n",
      "3\n",
      "4\n",
      "over\n"
     ]
    }
   ],
   "source": [
    "i=1\n",
    "while i<5:\n",
    "    print(i)\n",
    "    i+=1\n",
    "else:\n",
    "    print('over')"
   ]
  },
  {
   "cell_type": "markdown",
   "id": "25289b48-e420-4922-adeb-3696a99f93ff",
   "metadata": {},
   "source": [
    "### Lambda Function"
   ]
  },
  {
   "cell_type": "code",
   "execution_count": 196,
   "id": "6fc87777-3e0d-4400-943d-63d02c1babeb",
   "metadata": {},
   "outputs": [
    {
     "name": "stdout",
     "output_type": "stream",
     "text": [
      "20\n",
      "35\n",
      "130\n"
     ]
    }
   ],
   "source": [
    "add_n=lambda number:number+10\n",
    "print(add_n(10))\n",
    "print(add_n(25))\n",
    "print(add_n(120))"
   ]
  },
  {
   "cell_type": "code",
   "execution_count": null,
   "id": "16c4fe28-8e50-49a6-92ac-771e62db5fa9",
   "metadata": {},
   "outputs": [],
   "source": []
  }
 ],
 "metadata": {
  "kernelspec": {
   "display_name": "anaconda-panel-2023.05-py310",
   "language": "python",
   "name": "conda-env-anaconda-panel-2023.05-py310-py"
  },
  "language_info": {
   "codemirror_mode": {
    "name": "ipython",
    "version": 3
   },
   "file_extension": ".py",
   "mimetype": "text/x-python",
   "name": "python",
   "nbconvert_exporter": "python",
   "pygments_lexer": "ipython3",
   "version": "3.11.4"
  }
 },
 "nbformat": 4,
 "nbformat_minor": 5
}
